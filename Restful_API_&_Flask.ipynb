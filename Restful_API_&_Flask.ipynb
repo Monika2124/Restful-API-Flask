{
  "nbformat": 4,
  "nbformat_minor": 0,
  "metadata": {
    "colab": {
      "provenance": []
    },
    "kernelspec": {
      "name": "python3",
      "display_name": "Python 3"
    },
    "language_info": {
      "name": "python"
    }
  },
  "cells": [
    {
      "cell_type": "markdown",
      "source": [
        "#Theory Questions"
      ],
      "metadata": {
        "id": "yKsxGoStALXD"
      }
    },
    {
      "cell_type": "markdown",
      "source": [
        "#Q1- What is a RESTful API ?\n",
        "-\n",
        "  -A RESTful API is a type of API that uses the principles of Representational State Transfer (REST) to allow different systems to communicate over the internet. RESTful APIs are designed to be lightweight, scalable, and flexible, making them popular for building web services and microservices. They rely on a client-server model, where clients send requests to servers to access and manipulate resources\n",
        "\n",
        "#Q2- Explain the concept of API specification ?\n",
        "-\n",
        "  -An API (Application Programming Interface) specification is a document that defines how a software interface behaves and interacts with other software. It outlines the structure, format, and syntax of an API, essentially acting as a blueprint for building and using it.\n",
        "  -Key Aspects of an API Specification:\n",
        "    -Formal Contract: An API specification serves as a formal contract between the API provider and the API consumer, specifying what the API does and how it should be used.\n",
        "    \n",
        "    -Machine-Readable: API specifications are often written in formats like JSON or YAML, making them easily parsed by machines, which enables automation of tasks like code generation, documentation, and testing.\n",
        "    \n",
        "    -Describes API Behavior: An API specification details how the API functions, including the endpoints it offers, the data types it supports, and the expected behavior of the API in response to different requests.\n",
        "    \n",
        "    -Facilitates API Design and Development:By defining the API's structure and functionality upfront, an API specification allows developers to build a well-defined and consistent API.\n",
        "    \n",
        "    -Promotes Communication: API specifications act as a communication tool, allowing different teams to understand how the API will be used and how they can integrate with it.\n",
        "\n",
        "\n",
        "#Q3 What is Flask, and why is it popular for building APIs?\n",
        "-\n",
        "   -Flask is a lightweight Python web framework often used for building APIs, especially RESTful APIs, and microservices. Its simplicity and flexibility, along with its easy-to-use nature, make it a popular choice for developers. Unlike heavier frameworks like Django, Flask is minimal, allowing developers to have more control over the application structure and add only the necessary features.\n",
        "Here's why Flask is popular for API development:\n",
        "   \n",
        "    -Simplicity and Ease of Use: Flask is known for its straightforward and intuitive API, making it easy for developers to get started with building APIs.\n",
        "   \n",
        "    -Flexibility:Flask's minimal nature allows developers to tailor the API to specific project requirements, adding only the extensions and features they need.\n",
        "   \n",
        "    -Lightweight and Efficient:Flask is a microframework, meaning it's lightweight and doesn't require excessive setup or complexity.\n",
        "   \n",
        "    -Built-in Tools: Flask includes a built-in development server and debugger, making it easier to develop and test APIs.\n",
        "   \n",
        "    -Strong Community Support:Flask has a vibrant community and a large ecosystem of extensions, making it easier to find resources and support.\n",
        "   \n",
        "    -REST API Support :Flask can be easily extended with libraries like Flask-RESTful to make building RESTful APIs even simpler, as explained in an Auth0 blog post.\n",
        "\n",
        "\n",
        "\n",
        "#Q4 What is routing in Flask?\n",
        "-\n",
        " -Routing in Flask is the mechanism that maps specific URL paths to corresponding Python functions within a Flask application. When a user accesses a particular URL, Flask's routing system determines which function is responsible for handling that request and generating the appropriate response\n",
        "\n",
        "#Q5- How do you create a simple Flask application?\n",
        "-  \n",
        "  -Creating a simple Flask application involves a few key steps:\n",
        "    Set up your environment:\n",
        "    Create a new directory for your project: mkdir my_flask_app && cd my_flask_app\n",
        "    Create a virtual environment to manage dependencies: python3 -m venv venv\n",
        "    Activate the virtual environment:\n",
        "    On Linux/macOS: source venv/bin/activate\n",
        "    On Windows: venv\\Scripts\\activate\n",
        "    Install Flask: pip install Flask\n",
        "    Create your Flask application file:\n",
        "    Create a Python file (e.g., app.py) in your project directory.\n",
        "    Add the following code to app.py:\n",
        "\n",
        "#Q6 -What are HTTP methods used in RESTful APIs ?\n",
        "-\n",
        " -In RESTful APIs, several HTTP methods are used to perform different actions on resources. The most commonly used ones are GET, POST, PUT, PATCH, and DELETE, corresponding to CRUD (Create, Read, Update, Delete) operations.\n",
        "\n",
        "#Q7 - What is the purpose of the @app.route() decorator in Flask?\n",
        "-\n",
        "  -The @app.route() decorator in Flask serves the purpose of defining URL routes and associating them with specific Python functions, known as view functions.When a web browser requests a particular URL, Flask uses the routing information defined by @app.route() to determine which view function should handle that request. The decorator effectively \"maps\" a given URL path to a Python function, ensuring that when that URL is accessed, the corresponding function is executed and its return value is sent back as the response to the client\n",
        "\n",
        "#Q8 -What is the difference between GET and POST HTTP methods ?\n",
        "-\n",
        "   -The main difference between GET and POST HTTP methods lies in their intended purpose: GET requests retrieve data, while POST requests send data to create or update resources. GET requests typically pass data in the URL, while POST requests send data in the request body.\n",
        "\n",
        "#Q9 - How do you handle errors in Flask APIs?\n",
        "-\n",
        "  -This can be done by registering error handlers. When Flask catches an exception while handling a request, it is first looked up by code. If no handler is registered for the code, Flask looks up the error by its class hierarchy; the most specific handler is chosen\n",
        "\n",
        "#Q10- How do you connect Flask to a SQL database?\n",
        "-\n",
        "  -Connecting to the MySQL database in a Flask app\n",
        "  -Step 1: Create the getdb function. We are going to write the connection code once in the getdb function and return the database connection anytime it's needed in our routes. ...\n",
        "  -Step 2: Close the database connection after each request. ...\n",
        "  -Step 3: Use the getdb function in routes.\n",
        "\n",
        "#Q11- What is the role of Flask-SQLAlchemy?\n",
        "-\n",
        " -Flask-SQLAlchemy is a Flask extension that makes using SQLAlchemy with Flask easier, providing you tools and methods to interact with your database in your Flask applications through SQLAlchemy. In this tutorial, you'll build a small student management system that demonstrates how to use the Flask-SQLAlchemy extension.\n",
        "\n",
        "#Q12 - What are Flask blueprints, and how are they useful?\n",
        "-  \n",
        "  -Flask blueprints are a way to organize your Flask application into reusable and most importantly maintainable units. With blueprints, you can break your application into smaller, more manageable pieces, making it easier to maintain and scale\n",
        "\n",
        "#Q13- What is the purpose of Flask's request object?\n",
        "-\n",
        " -The purpose of Flask's request object is to provide access to incoming request data within a Flask web application. It acts as a central repository for all information related to the current HTTP request made by a client to the server.\n",
        "  Specifically, the request object allows developers to:\n",
        "Access Form Data: Retrieve data submitted through HTML forms, whether via GET (query parameters) or POST (form body). This includes text fields, checkboxes, radio buttons, and file uploads.\n",
        "Inspect Request Headers: Access various HTTP headers sent by the client, such as User-Agent, Referer, Content-Type, and Accept.\n",
        "Determine HTTP Method: Identify the HTTP method used for the request (e.g., GET, POST, PUT, DELETE).\n",
        "Retrieve URL Parameters: Access dynamic parts of the URL defined in the route, such as id in /users/<id>.\n",
        "Access Cookies: Read cookies sent by the client in the request.\n",
        "Get Request Body Data: Access the raw request body, which can be useful for handling JSON or other non-form data.\n",
        "Obtain Client Information: Retrieve details about the client, such as their IP address.\n",
        "\n",
        "#Q14-  How do you create a RESTful API endpoint using Flask ?\n",
        "-\n",
        "  -Creating a RESTful Endpoint with Flask\n",
        "In its place, we defined an endpoint to handle HTTP GET requests to return incomes and another endpoint to handle HTTP POST requests to add new ones. These endpoints are annotated with @app. route to define routes listening to requests on the /incomes endpoint.\n",
        "\n",
        "#Q15 - What is the purpose of Flask's jsonify() function?\n",
        "-\n",
        "  -Flask's jsonify() function converts Python dictionaries or lists into JSON format and automatically sets the response's Content-Type header to application/json, making it suitable for creating JSON responses in web applications. It simplifies the process of returning JSON data from Flask routes and is commonly used in API development.\n",
        "Here's a more detailed explanation:\n",
        "JSON Conversion:\n",
        "jsonify() takes Python dictionaries or lists as input and converts them into a JSON string.\n",
        "Automatic Content-Type:\n",
        "It automatically sets the Content-Type header in the HTTP response to application/json, indicating that the response data is in JSON format. This is crucial for clients to understand the data format they are receiving.\n",
        "Convenience:\n",
        "jsonify() provides a convenient way to create JSON responses without manually handling serialization and header setting, simplifying the development process.\n",
        "Flask Response Object:\n",
        "jsonify() returns a Flask Response object which can be used to send back to the client.\n",
        "Common Use in APIs:\n",
        "jsonify() is widely used in web applications, especially in the creation of APIs, as it allows for efficient and standard-compliant JSON response handling\n",
        "\n",
        "#Q16 Explain Flask’s url_for() function?\n",
        "-\n",
        " -lask's url_for() function is a utility that dynamically generates URLs for specific view functions within a Flask application. It provides a more robust and maintainable way to link to different parts of an application compared to hardcoding URLs.\n",
        "Key aspects of url_for():\n",
        "Function-based URL Generation: Instead of directly specifying a URL path, url_for() takes the name of the view function as its first argument. Flask then uses its internal routing map to determine the correct URL associated with that function.\n",
        "\n",
        "#Q17- How does Flask handle static files (CSS, JavaScript, etc.) ?\n",
        "-  \n",
        "  -Flask handles static files like CSS, JavaScript, and images by serving them from a designated \"static\" directory within the application. This process involves the following key aspects:\n",
        "Static Folder Convention:\n",
        "By default, Flask expects static files to reside in a folder named static located in the root directory of your Flask application.\n",
        "url_for() for Referencing:\n",
        "To link to static files within your Jinja2 templates (HTML files), you use the url_for() function. This function dynamically generates the correct URL path for the static file, ensuring compatibility across different environments and simplifying URL management.\n",
        "\n",
        "#Q18 - What is an API specification, and how does it help in building a Flask API ?\n",
        "-  \n",
        "  - An API specification is essentially a blueprint or contract for your web service. It formally describes:\n",
        "\n",
        "Endpoints — which URLs are available and which HTTP methods (GET, POST, etc.) they accept.\n",
        "\n",
        "Request/response formats — what parameters, JSON bodies, headers are expected, and what structure responses have (status codes, error formats).\n",
        "\n",
        "Data types and models — schemas for input and output fields.\n",
        "\n",
        "Security requirements — authentication methods, permissions, tokens, etc.\n",
        "\n",
        "Specifications are often written in standard formats like OpenAPI (formerly Swagger), RAML, or API Blueprint in YAML or JSON\n",
        "\n",
        "\n",
        "#Q19 What are HTTP status codes, and why are they important in a Flask API ?\n",
        "-\n",
        "   -When an error occurs in Flask, an appropriate HTTP status code will be returned. 400-499 indicate errors with the client's request data, or about the data requested. 500-599 indicate errors with the server or application itself. You might want to show custom error pages to the user when an error occurs.\n",
        "\n",
        "#Q20 - How do you handle POST requests in Flask?\n",
        "-\n",
        "  -Handling POST requests in Flask involves defining a route that accepts the POST method and then accessing the submitted data using the request object.\n",
        "Here's how to handle POST requests in Flask:\n",
        "Import request: Begin by importing the request object from the flask module. This object provides access to incoming request data.\n",
        "\n",
        "#Q21 How would you secure a Flask API?\n",
        "-\n",
        "  -To protect your APIs built with Flask, it is essential to address several key security aspects: Use HTTPS: Employing HTTPS encrypts data in transit, preventing unauthorized access and mitigating the risk of man-in-the-middle attacks.\n",
        "\n",
        "#Q22 -What is the significance of the Flask-RESTful extension ?\n",
        "-\n",
        "  -he Flask RESTful extension significantly simplifies building RESTful APIs in Python using the Flask microframework. It provides tools and abstractions to make API development more organized, efficient, and easier to manage. Essentially, it enhances Flask with the capabilities to build robust and feature-rich RESTful APIs by handling common tasks like request parsing, response formatting, and resource management.\n",
        "\n",
        "#Q23   What is the role of Flask’s session object?\n",
        "-  \n",
        "   -In Flask, the session object allows you to store user-specific data across multiple HTTP requests, making it possible to maintain state between different interactions with a web application. It's like a temporary storage area that persists data throughout a user's session\n",
        "\n",
        "\n",
        "\n"
      ],
      "metadata": {
        "id": "_0AJlNQGAQVR"
      }
    },
    {
      "cell_type": "markdown",
      "source": [
        "#PRACTICAL"
      ],
      "metadata": {
        "id": "WL81iACVWxei"
      }
    },
    {
      "cell_type": "code",
      "source": [
        "#Q1 - How do you create a basic Flask application?\n",
        "\n",
        "\n",
        "\n",
        "from flask import Flask\n",
        "\n",
        "app = Flask(__name__)  # Create the Flask app\n",
        "\n",
        "@app.route('/')        # Define route for \"/\"\n",
        "def hello():\n",
        "    return 'Hello, World!'  # Return a simple response\n",
        "\n",
        "if __name__ == '__main__':\n",
        "    app.run(debug=True)     # Start dev server"
      ],
      "metadata": {
        "colab": {
          "base_uri": "https://localhost:8080/"
        },
        "id": "hXFKKJF9WzzC",
        "outputId": "95c96269-022b-4c91-e038-72dc3d680c28"
      },
      "execution_count": null,
      "outputs": [
        {
          "output_type": "stream",
          "name": "stdout",
          "text": [
            " * Serving Flask app '__main__'\n",
            " * Debug mode: on\n"
          ]
        },
        {
          "output_type": "stream",
          "name": "stderr",
          "text": [
            "INFO:werkzeug:\u001b[31m\u001b[1mWARNING: This is a development server. Do not use it in a production deployment. Use a production WSGI server instead.\u001b[0m\n",
            " * Running on http://127.0.0.1:5000\n",
            "INFO:werkzeug:\u001b[33mPress CTRL+C to quit\u001b[0m\n",
            "INFO:werkzeug: * Restarting with stat\n"
          ]
        }
      ]
    },
    {
      "cell_type": "code",
      "source": [
        "#Q2 How do you serve static files like images or CSS in Flask?\n",
        "\n",
        "from flask import send_from_directory\n",
        "\n",
        "@app.route('/reports/<path:fname>')\n",
        "def download(fname):\n",
        "    return send_from_directory('reports', fname)"
      ],
      "metadata": {
        "id": "lKKb_hm3W0yl"
      },
      "execution_count": null,
      "outputs": []
    },
    {
      "cell_type": "code",
      "source": [
        "#Q3- 0M How do you define different routes with different HTTP methods in Flask4\n",
        "from flask import Flask, request, jsonify\n",
        "\n",
        "app = Flask(__name__)\n",
        "\n",
        "@app.route('/items', methods=['GET', 'POST'])\n",
        "def items():\n",
        "    if request.method == 'GET':\n",
        "        # e.g., return list of items\n",
        "        return jsonify(items=[...]), 200\n",
        "    elif request.method == 'POST':\n",
        "        data = request.get_json()\n",
        "        # e.g., create a new item\n",
        "        return jsonify(item=data), 201"
      ],
      "metadata": {
        "id": "pGyBkFlZW0wb"
      },
      "execution_count": null,
      "outputs": []
    },
    {
      "cell_type": "code",
      "source": [
        "#Q4. How do you render HTML templates in Flask?\n",
        "\n",
        "from flask import Flask, render_template\n",
        "\n",
        "app = Flask(__name__)\n",
        "\n",
        "@app.route('/')\n",
        "def hello():\n",
        "    return render_template('index.html')\n",
        ""
      ],
      "metadata": {
        "id": "SUljz3sVW0t5"
      },
      "execution_count": null,
      "outputs": []
    },
    {
      "cell_type": "code",
      "source": [
        "#Q5. How can you generate URLs for routes in Flask using url_for.\n",
        "\n",
        "from flask import Flask, url_for\n",
        "\n",
        "app = Flask(__name__)\n",
        "\n",
        "@app.route('/')\n",
        "def index():\n",
        "    return 'Home Page'\n",
        "\n",
        "@app.route('/about')\n",
        "def about():\n",
        "    return f'Go to homepage: {url_for(\"index\")}'\n"
      ],
      "metadata": {
        "id": "sVtQv1JLW0rj"
      },
      "execution_count": null,
      "outputs": []
    },
    {
      "cell_type": "code",
      "source": [
        "Q6. How do you handle forms in Flask?\n",
        "\n",
        "from flask import Flask, request\n",
        "\n",
        "app = Flask(__name__)\n",
        "\n",
        "@app.route('/submit', methods=['POST'])\n",
        "def submit():\n",
        "    name = request.form['username']\n",
        "    return f\"Hello {name}!\""
      ],
      "metadata": {
        "id": "tmeSoDkNW0pe"
      },
      "execution_count": null,
      "outputs": []
    },
    {
      "cell_type": "code",
      "source": [
        "#Q7. How can you validate form data in Flask?\n",
        "@app.route('/submit', methods=['POST'])\n",
        "def submit():\n",
        "    name = request.form.get('username')\n",
        "    if not name:\n",
        "        return \"Name is required!\"\n",
        "    return f\"Hello {name}!\""
      ],
      "metadata": {
        "id": "pYkIPwoNW0mm"
      },
      "execution_count": null,
      "outputs": []
    },
    {
      "cell_type": "code",
      "source": [
        "#Q8. How do you manage sessions in Flask?\n",
        "from flask import Flask, session\n",
        "\n",
        "app = Flask(__name__)\n",
        "app.secret_key = 'secretkey'\n",
        "\n",
        "@app.route('/login')\n",
        "def login():\n",
        "    session['user'] = 'Shobhit'\n",
        "    return \"Logged in!\"\n",
        "\n",
        "@app.route('/profile')\n",
        "def profile():\n",
        "    return f\"User: {session.get('user')}\""
      ],
      "metadata": {
        "id": "KO3kyFRpW0jt"
      },
      "execution_count": null,
      "outputs": []
    },
    {
      "cell_type": "code",
      "source": [
        "#Q9.How do you redirect to a different route in Flask?\n",
        "from flask import Flask, redirect, url_for\n",
        "\n",
        "app = Flask(__name__)\n",
        "\n",
        "@app.route('/')\n",
        "def home():\n",
        "    return redirect(url_for('login'))\n",
        "\n",
        "@app.route('/login')\n",
        "def login():\n",
        "    return \"Login Page\""
      ],
      "metadata": {
        "id": "Wh8vfKgIW0hU"
      },
      "execution_count": null,
      "outputs": []
    },
    {
      "cell_type": "code",
      "source": [
        "#Q10.How do you handle errors in Flask (e.g., 404)?\n",
        "@app.errorhandler(404)\n",
        "def not_found(error):\n",
        "    return \"Page Not Found\", 404\n"
      ],
      "metadata": {
        "id": "qVm-KdUFW0fU"
      },
      "execution_count": null,
      "outputs": []
    },
    {
      "cell_type": "code",
      "source": [
        "\n",
        "#Q11.How do you structure a Flask app using Blueprints?\n",
        "\n",
        "from flask import Blueprint\n",
        "\n",
        "admin_bp = Blueprint('admin', __name__)\n",
        "\n",
        "@admin_bp.route('/admin')\n",
        "def admin_home():\n",
        "    return \"Admin Dashboard\"\n",
        "\n",
        "\n",
        "from flask import Flask\n",
        "from admin.routes import admin_bp\n",
        "\n",
        "app = Flask(__name__)\n",
        "app.register_blueprint(admin_bp)"
      ],
      "metadata": {
        "id": "5E9VsdbCW0c5"
      },
      "execution_count": null,
      "outputs": []
    },
    {
      "cell_type": "code",
      "source": [
        "#Q12. How do you define a custom Jinja filter in Flask?\n",
        "def reverse_string(s):\n",
        "    return s[::-1]"
      ],
      "metadata": {
        "id": "BbsZ4JAQW0av"
      },
      "execution_count": null,
      "outputs": []
    },
    {
      "cell_type": "code",
      "source": [
        "\n",
        "#Q13. How can you redirect with query parameters in Flask?\n",
        "from flask import Flask, redirect, url_for\n",
        "\n",
        "app = Flask(__name__)\n",
        "\n",
        "@app.route('/send')\n",
        "def send():\n",
        "    return redirect(url_for('receive', name='Shobhit'))\n",
        "\n",
        "@app.route('/receive')\n",
        "def receive():\n",
        "    name = request.args.get('name')\n",
        "    return f\"Received name: {name}\""
      ],
      "metadata": {
        "id": "UoPa7xzXW0Y5"
      },
      "execution_count": null,
      "outputs": []
    },
    {
      "cell_type": "code",
      "source": [
        "\n",
        "#Q14. How do you return JSON responses in Flask?\n",
        "\n",
        "from flask import Flask, jsonify\n",
        "\n",
        "app = Flask(__name__)\n",
        "\n",
        "@app.route('/json')\n",
        "def json_data():\n",
        "    return jsonify(name='Shobhit', age=30)"
      ],
      "metadata": {
        "id": "uL4vASGSW0Wn"
      },
      "execution_count": null,
      "outputs": []
    },
    {
      "cell_type": "code",
      "source": [
        "#Q15. How do you capture URL parameters in Flask?\n",
        "\n",
        "@app.route('/user/')\n",
        "def show_user(username):\n",
        "    return f\"Hello {username}!\""
      ],
      "metadata": {
        "id": "iodV6QDuW0UV"
      },
      "execution_count": null,
      "outputs": []
    },
    {
      "cell_type": "code",
      "source": [],
      "metadata": {
        "id": "w0lH8vAuW0Rz"
      },
      "execution_count": null,
      "outputs": []
    },
    {
      "cell_type": "code",
      "source": [],
      "metadata": {
        "id": "hGVhzjfsW0P2"
      },
      "execution_count": null,
      "outputs": []
    },
    {
      "cell_type": "code",
      "source": [],
      "metadata": {
        "id": "qjDIY9_LW0N5"
      },
      "execution_count": null,
      "outputs": []
    },
    {
      "cell_type": "code",
      "source": [],
      "metadata": {
        "id": "nLPcKVNuW0Lk"
      },
      "execution_count": null,
      "outputs": []
    },
    {
      "cell_type": "code",
      "source": [],
      "metadata": {
        "id": "hs-4xsoMW0JJ"
      },
      "execution_count": null,
      "outputs": []
    }
  ]
}